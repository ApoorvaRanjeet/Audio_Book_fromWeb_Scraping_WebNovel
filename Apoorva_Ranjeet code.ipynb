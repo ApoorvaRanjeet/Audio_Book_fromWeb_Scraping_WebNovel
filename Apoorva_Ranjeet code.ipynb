{
  "nbformat": 4,
  "nbformat_minor": 0,
  "metadata": {
    "colab": {
      "provenance": []
    },
    "kernelspec": {
      "name": "python3",
      "display_name": "Python 3"
    },
    "language_info": {
      "name": "python"
    }
  },
  "cells": [
    {
      "cell_type": "code",
      "source": [
        "!pip install requests"
      ],
      "metadata": {
        "colab": {
          "base_uri": "https://localhost:8080/"
        },
        "id": "dHv7pz6WBJwQ",
        "outputId": "18328b0e-8f64-4431-e79e-a7878da5399e"
      },
      "execution_count": 1,
      "outputs": [
        {
          "output_type": "stream",
          "name": "stdout",
          "text": [
            "Requirement already satisfied: requests in /usr/local/lib/python3.10/dist-packages (2.31.0)\n",
            "Requirement already satisfied: charset-normalizer<4,>=2 in /usr/local/lib/python3.10/dist-packages (from requests) (3.3.2)\n",
            "Requirement already satisfied: idna<4,>=2.5 in /usr/local/lib/python3.10/dist-packages (from requests) (3.7)\n",
            "Requirement already satisfied: urllib3<3,>=1.21.1 in /usr/local/lib/python3.10/dist-packages (from requests) (2.0.7)\n",
            "Requirement already satisfied: certifi>=2017.4.17 in /usr/local/lib/python3.10/dist-packages (from requests) (2024.7.4)\n"
          ]
        }
      ]
    },
    {
      "cell_type": "code",
      "source": [
        "!pip install beautifulsoup4"
      ],
      "metadata": {
        "colab": {
          "base_uri": "https://localhost:8080/"
        },
        "id": "DOrUv1ALBLih",
        "outputId": "26b65b32-be6e-48b1-899c-80044f9434bc"
      },
      "execution_count": 2,
      "outputs": [
        {
          "output_type": "stream",
          "name": "stdout",
          "text": [
            "Requirement already satisfied: beautifulsoup4 in /usr/local/lib/python3.10/dist-packages (4.12.3)\n",
            "Requirement already satisfied: soupsieve>1.2 in /usr/local/lib/python3.10/dist-packages (from beautifulsoup4) (2.5)\n"
          ]
        }
      ]
    },
    {
      "cell_type": "code",
      "source": [
        "!pip install gtts"
      ],
      "metadata": {
        "colab": {
          "base_uri": "https://localhost:8080/"
        },
        "id": "4cX9kh6dBM3u",
        "outputId": "23006b46-c5bd-43ed-f6ea-902afd6a343b"
      },
      "execution_count": 3,
      "outputs": [
        {
          "output_type": "stream",
          "name": "stdout",
          "text": [
            "Collecting gtts\n",
            "  Downloading gTTS-2.5.2-py3-none-any.whl.metadata (4.1 kB)\n",
            "Requirement already satisfied: requests<3,>=2.27 in /usr/local/lib/python3.10/dist-packages (from gtts) (2.31.0)\n",
            "Requirement already satisfied: click<8.2,>=7.1 in /usr/local/lib/python3.10/dist-packages (from gtts) (8.1.7)\n",
            "Requirement already satisfied: charset-normalizer<4,>=2 in /usr/local/lib/python3.10/dist-packages (from requests<3,>=2.27->gtts) (3.3.2)\n",
            "Requirement already satisfied: idna<4,>=2.5 in /usr/local/lib/python3.10/dist-packages (from requests<3,>=2.27->gtts) (3.7)\n",
            "Requirement already satisfied: urllib3<3,>=1.21.1 in /usr/local/lib/python3.10/dist-packages (from requests<3,>=2.27->gtts) (2.0.7)\n",
            "Requirement already satisfied: certifi>=2017.4.17 in /usr/local/lib/python3.10/dist-packages (from requests<3,>=2.27->gtts) (2024.7.4)\n",
            "Downloading gTTS-2.5.2-py3-none-any.whl (29 kB)\n",
            "Installing collected packages: gtts\n",
            "Successfully installed gtts-2.5.2\n"
          ]
        }
      ]
    },
    {
      "cell_type": "code",
      "source": [
        "import requests\n",
        "from bs4 import BeautifulSoup\n",
        "from gtts import gTTS\n",
        "from IPython.display import Audio"
      ],
      "metadata": {
        "id": "vqo2kSTrBT9U"
      },
      "execution_count": 4,
      "outputs": []
    },
    {
      "cell_type": "code",
      "source": [
        "url=\"https://fast.novelupdates.net/book/invincible-divine-sword/chapter-1-martial-soul-world\""
      ],
      "metadata": {
        "id": "F0h6Awo6FJzE"
      },
      "execution_count": 21,
      "outputs": []
    },
    {
      "cell_type": "code",
      "source": [
        "response=requests.get(url)"
      ],
      "metadata": {
        "id": "Rr7qKg5wFQiw"
      },
      "execution_count": 22,
      "outputs": []
    },
    {
      "cell_type": "code",
      "source": [
        "response"
      ],
      "metadata": {
        "colab": {
          "base_uri": "https://localhost:8080/"
        },
        "id": "BDXbRIkNFV3T",
        "outputId": "8e7f0033-115f-4727-879d-910f2a70f760"
      },
      "execution_count": 23,
      "outputs": [
        {
          "output_type": "execute_result",
          "data": {
            "text/plain": [
              "<Response [200]>"
            ]
          },
          "metadata": {},
          "execution_count": 23
        }
      ]
    },
    {
      "cell_type": "code",
      "source": [
        "import requests\n",
        "from bs4 import BeautifulSoup\n",
        "\n",
        "# List of chapter URLs\n",
        "chapter_urls = [\n",
        "    'https://fast.novelupdates.net/book/invincible-divine-sword/chapter-1-martial-soul-world',\n",
        "    'https://fast.novelupdates.net/book/invincible-divine-sword/chapter-2-2-grandpas-favoritism',\n",
        "    'https://fast.novelupdates.net/book/invincible-divine-sword/chapter-3-3-the-sister-gets-hit',\n",
        "    'https://fast.novelupdates.net/book/invincible-divine-sword/chapter-4-4-a-friendly-competition',\n",
        "    'https://fast.novelupdates.net/book/invincible-divine-sword/chapter-5-5-chen-yuan-takes-a-disciple',\n",
        "    'https://fast.novelupdates.net/book/invincible-divine-sword/chapter-6-the-hijacking-of-mineral-materials',\n",
        "    'https://fast.novelupdates.net/book/invincible-divine-sword/chapter-7-7-twin-supreme-martial-spirits',\n",
        "    'https://fast.novelupdates.net/book/invincible-divine-sword/chapter-8-unmatched',\n",
        "    'https://fast.novelupdates.net/book/invincible-divine-sword/chapter-9-9-it-was-me-who-found-it-first',\n",
        "    'https://fast.novelupdates.net/book/invincible-divine-sword/chapter-10-10-you-and-your-son-are-just-alike'\n",
        "]\n",
        "\n",
        "# Extract and save chapters\n",
        "chapters = []\n",
        "for url in chapter_urls:\n",
        "    print(f\"Fetching content from: {url}\")\n",
        "    response = requests.get(url)\n",
        "    if response.status_code == 200:\n",
        "        soup = BeautifulSoup(response.content, 'html.parser')\n",
        "\n",
        "        # Extract content for the chapter\n",
        "        chapter = soup.find('div', {'class': 'col-xs-12'})\n",
        "        if chapter:\n",
        "            chapters.append(chapter.get_text(strip=True))\n",
        "        else:\n",
        "            print(f\"Content not found for {url}\")\n",
        "    else:\n",
        "        print(f\"Failed to retrieve chapter from {url}\")\n",
        "\n",
        "# Join all chapters\n",
        "content = '\\n\\n'.join(chapters)\n",
        "\n",
        "# Save to a file\n",
        "with open('book.txt', 'w') as file:\n",
        "    file.write(content)\n",
        "\n",
        "print(\"Scraping complete. Content saved to book.txt.\")\n"
      ],
      "metadata": {
        "colab": {
          "base_uri": "https://localhost:8080/"
        },
        "id": "wi4d3gncUv9R",
        "outputId": "fe5cb7b1-2ec6-47d7-f60f-8275e0e43360"
      },
      "execution_count": 41,
      "outputs": [
        {
          "output_type": "stream",
          "name": "stdout",
          "text": [
            "Fetching content from: https://fast.novelupdates.net/book/invincible-divine-sword/chapter-1-martial-soul-world\n",
            "Fetching content from: https://fast.novelupdates.net/book/invincible-divine-sword/chapter-2-2-grandpas-favoritism\n",
            "Fetching content from: https://fast.novelupdates.net/book/invincible-divine-sword/chapter-3-3-the-sister-gets-hit\n",
            "Fetching content from: https://fast.novelupdates.net/book/invincible-divine-sword/chapter-4-4-a-friendly-competition\n",
            "Fetching content from: https://fast.novelupdates.net/book/invincible-divine-sword/chapter-5-5-chen-yuan-takes-a-disciple\n",
            "Fetching content from: https://fast.novelupdates.net/book/invincible-divine-sword/chapter-6-the-hijacking-of-mineral-materials\n",
            "Fetching content from: https://fast.novelupdates.net/book/invincible-divine-sword/chapter-7-7-twin-supreme-martial-spirits\n",
            "Fetching content from: https://fast.novelupdates.net/book/invincible-divine-sword/chapter-8-unmatched\n",
            "Fetching content from: https://fast.novelupdates.net/book/invincible-divine-sword/chapter-9-9-it-was-me-who-found-it-first\n",
            "Fetching content from: https://fast.novelupdates.net/book/invincible-divine-sword/chapter-10-10-you-and-your-son-are-just-alike\n",
            "Scraping complete. Content saved to book.txt.\n"
          ]
        }
      ]
    },
    {
      "cell_type": "code",
      "source": [
        "from gtts import gTTS\n",
        "import os\n",
        "\n",
        "# Load the text from file\n",
        "with open('book.txt', 'r') as file:\n",
        "    text = file.read()\n",
        "\n",
        "# Convert text to speech\n",
        "tts = gTTS(text=text, lang='en', slow=False)\n",
        "\n",
        "# Save the audio file\n",
        "tts.save('audiobook.mp3')\n",
        "\n",
        "print(\"Audiobook created successfully: 'audiobook.mp3'\")\n"
      ],
      "metadata": {
        "colab": {
          "base_uri": "https://localhost:8080/"
        },
        "id": "FjOZI44aWGBc",
        "outputId": "f71ceecd-da46-488c-f480-44c9259ab19c"
      },
      "execution_count": 42,
      "outputs": [
        {
          "output_type": "stream",
          "name": "stdout",
          "text": [
            "Audiobook created successfully: 'audiobook.mp3'\n"
          ]
        }
      ]
    }
  ]
}